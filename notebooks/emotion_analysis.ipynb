{
 "cells": [
  {
   "cell_type": "code",
   "execution_count": 1,
   "metadata": {},
   "outputs": [],
   "source": [
    "import sys\n",
    "sys.path.append(\"../\")\n",
    "\n",
    "import warnings\n",
    "warnings.filterwarnings(\"ignore\")"
   ]
  },
  {
   "cell_type": "code",
   "execution_count": 2,
   "metadata": {},
   "outputs": [],
   "source": [
    "from text_classification.models import TextClassificationLSTM\n",
    "from text_classification.datasets import EmotionsDataset\n",
    "\n",
    "import pandas as pd\n",
    "import seaborn as sns\n",
    "from tokenizers import Tokenizer\n",
    "from torch.utils.data import DataLoader, random_split\n",
    "from sklearn.metrics import classification_report"
   ]
  },
  {
   "cell_type": "code",
   "execution_count": 3,
   "metadata": {},
   "outputs": [],
   "source": [
    "sns.set_theme()"
   ]
  },
  {
   "cell_type": "code",
   "execution_count": 4,
   "metadata": {},
   "outputs": [],
   "source": [
    "# Tokenizer settings\n",
    "MAX_SEQ_LEN = 200\n",
    "\n",
    "# Model settings\n",
    "NUM_CLASSES = 6\n",
    "EMBEDDING_DIM = 100\n",
    "HIDDEN_SIZE = 300\n",
    "NUM_LAYERS = 2\n",
    "DROPOUT = 0.2\n",
    "\n",
    "# Train settings\n",
    "NUM_EPOCHS = 50\n",
    "PATIENCE = 5\n",
    "BATCH_SIZE = 256\n",
    "LEARNING_RATE = 3e-4"
   ]
  },
  {
   "cell_type": "markdown",
   "metadata": {},
   "source": [
    "# Tokenizer"
   ]
  },
  {
   "cell_type": "code",
   "execution_count": 5,
   "metadata": {},
   "outputs": [],
   "source": [
    "tokenizer = Tokenizer.from_file(\"../models/lstm_tokenizer.json\")\n",
    "tokenizer.enable_padding(pad_id=1, pad_token=\"[PAD]\", length=MAX_SEQ_LEN)\n",
    "tokenizer.enable_truncation(max_length=MAX_SEQ_LEN)"
   ]
  },
  {
   "cell_type": "markdown",
   "metadata": {},
   "source": [
    "# Dataset"
   ]
  },
  {
   "cell_type": "code",
   "execution_count": 6,
   "metadata": {},
   "outputs": [],
   "source": [
    "dataset = EmotionsDataset(tokenizer)\n",
    "train_data, val_data, test_data = random_split(dataset, [0.7, 0.15, 0.15])"
   ]
  },
  {
   "cell_type": "markdown",
   "metadata": {},
   "source": [
    "# Training"
   ]
  },
  {
   "cell_type": "code",
   "execution_count": 7,
   "metadata": {},
   "outputs": [],
   "source": [
    "model = TextClassificationLSTM(\n",
    "    num_classes=NUM_CLASSES,\n",
    "    vocab_size=tokenizer.get_vocab_size(),\n",
    "    embedding_dim=EMBEDDING_DIM,\n",
    "    hidden_size=HIDDEN_SIZE,\n",
    "    num_layers=NUM_LAYERS,\n",
    "    dropout=DROPOUT,\n",
    ")"
   ]
  },
  {
   "cell_type": "code",
   "execution_count": 8,
   "metadata": {},
   "outputs": [],
   "source": [
    "train_loader = DataLoader(train_data, batch_size=BATCH_SIZE, shuffle=True)\n",
    "val_loader = DataLoader(val_data, batch_size=BATCH_SIZE)"
   ]
  },
  {
   "cell_type": "code",
   "execution_count": 9,
   "metadata": {},
   "outputs": [
    {
     "name": "stdout",
     "output_type": "stream",
     "text": [
      "Epoch  1/50: loss=1.5520, accuracy=0.3651, precision=0.1434, recall=0.1724, f1_score=0.1037\n",
      "Epoch  2/50: loss=1.4842, accuracy=0.4297, precision=0.1419, recall=0.2222, f1_score=0.1728\n",
      "Epoch  3/50: loss=1.4397, accuracy=0.4510, precision=0.1900, recall=0.2415, f1_score=0.1892\n",
      "Epoch  4/50: loss=1.3073, accuracy=0.5274, precision=0.3130, recall=0.3138, f1_score=0.2927\n",
      "Epoch  5/50: loss=1.2371, accuracy=0.5480, precision=0.3446, recall=0.3745, f1_score=0.3474\n",
      "Epoch  6/50: loss=1.0764, accuracy=0.6222, precision=0.4244, recall=0.4200, f1_score=0.4061\n",
      "Epoch  7/50: loss=0.9271, accuracy=0.6735, precision=0.5548, recall=0.4889, f1_score=0.4981\n",
      "Epoch  8/50: loss=0.8425, accuracy=0.7099, precision=0.5806, recall=0.5289, f1_score=0.5381\n",
      "Epoch  9/50: loss=0.7844, accuracy=0.7287, precision=0.6344, recall=0.5896, f1_score=0.5922\n",
      "Epoch 10/50: loss=0.6951, accuracy=0.7678, precision=0.6692, recall=0.6405, f1_score=0.6453\n",
      "Epoch 11/50: loss=0.6705, accuracy=0.7756, precision=0.7156, recall=0.6590, f1_score=0.6661\n",
      "Epoch 12/50: loss=0.6698, accuracy=0.7919, precision=0.7155, recall=0.7131, f1_score=0.7048\n",
      "Epoch 13/50: loss=0.6285, accuracy=0.8025, precision=0.7497, recall=0.6978, f1_score=0.7052\n",
      "Epoch 14/50: loss=0.6121, accuracy=0.8080, precision=0.7621, recall=0.7430, f1_score=0.7430\n",
      "Epoch 15/50: loss=0.5879, accuracy=0.8146, precision=0.7593, recall=0.7565, f1_score=0.7494\n",
      "Epoch 16/50: loss=0.5383, accuracy=0.8360, precision=0.7854, recall=0.7845, f1_score=0.7789\n",
      "Epoch 17/50: loss=0.5470, accuracy=0.8353, precision=0.7982, recall=0.7561, f1_score=0.7696\n",
      "Epoch 18/50: loss=0.5743, accuracy=0.8379, precision=0.7957, recall=0.7763, f1_score=0.7805\n",
      "Epoch 19/50: loss=0.5554, accuracy=0.8390, precision=0.7934, recall=0.7960, f1_score=0.7864\n",
      "Epoch 20/50: loss=0.6086, accuracy=0.8421, precision=0.7988, recall=0.7864, f1_score=0.7805\n",
      "Epoch 21/50: loss=0.5722, accuracy=0.8403, precision=0.7910, recall=0.8030, f1_score=0.7925\n",
      "Epoch 22/50: loss=0.5586, accuracy=0.8511, precision=0.7996, recall=0.8160, f1_score=0.8032\n",
      "Epoch 23/50: loss=0.5897, accuracy=0.8520, precision=0.8217, recall=0.7840, f1_score=0.7969\n",
      "Epoch 24/50: loss=0.5830, accuracy=0.8535, precision=0.8055, recall=0.8041, f1_score=0.7990\n",
      "Epoch 25/50: loss=0.6259, accuracy=0.8503, precision=0.8059, recall=0.7922, f1_score=0.7937\n",
      "Epoch 26/50: loss=0.6251, accuracy=0.8537, precision=0.8281, recall=0.7947, f1_score=0.8036\n",
      "Epoch 27/50: loss=0.5934, accuracy=0.8580, precision=0.8138, recall=0.8206, f1_score=0.8124\n",
      "Epoch 28/50: loss=0.6046, accuracy=0.8545, precision=0.8052, recall=0.8208, f1_score=0.8072\n",
      "Epoch 29/50: loss=0.6036, accuracy=0.8421, precision=0.7827, recall=0.8192, f1_score=0.7937\n",
      "Epoch 30/50: loss=0.6260, accuracy=0.8540, precision=0.8095, recall=0.8113, f1_score=0.8048\n",
      "Epoch 31/50: loss=0.6210, accuracy=0.8639, precision=0.8371, recall=0.8138, f1_score=0.8185\n",
      "Epoch 32/50: loss=0.6426, accuracy=0.8605, precision=0.8258, recall=0.8059, f1_score=0.8094\n",
      "Epoch 33/50: loss=0.6465, accuracy=0.8503, precision=0.8080, recall=0.8012, f1_score=0.7977\n",
      "Epoch 34/50: loss=0.7517, accuracy=0.8471, precision=0.8403, recall=0.7634, f1_score=0.7878\n",
      "Epoch 35/50: loss=0.6212, accuracy=0.8559, precision=0.8100, recall=0.8078, f1_score=0.8038\n",
      "Epoch 36/50: loss=0.6740, accuracy=0.8544, precision=0.8179, recall=0.8042, f1_score=0.8052\n",
      "Early stopping - best model from epoch 31!\n"
     ]
    }
   ],
   "source": [
    "history = model.fit(train_loader, val_loader, LEARNING_RATE, NUM_EPOCHS, PATIENCE)"
   ]
  },
  {
   "cell_type": "code",
   "execution_count": 10,
   "metadata": {},
   "outputs": [],
   "source": [
    "model.save(\"../models/emotion_lstm.pt\")"
   ]
  },
  {
   "cell_type": "markdown",
   "metadata": {},
   "source": [
    "# Performance"
   ]
  },
  {
   "cell_type": "code",
   "execution_count": 11,
   "metadata": {},
   "outputs": [],
   "source": [
    "history = pd.DataFrame(history)"
   ]
  },
  {
   "cell_type": "code",
   "execution_count": 12,
   "metadata": {},
   "outputs": [
    {
     "data": {
      "image/png": "[encoded data removed]",
      "text/plain": [
       "<Figure size 619.5x500 with 1 Axes>"
      ]
     },
     "metadata": {},
     "output_type": "display_data"
    }
   ],
   "source": [
    "g = sns.relplot(history, x=\"epoch\", y=\"loss\", hue=\"set\", kind=\"line\")"
   ]
  },
  {
   "cell_type": "code",
   "execution_count": 13,
   "metadata": {},
   "outputs": [
    {
     "name": "stdout",
     "output_type": "stream",
     "text": [
      "Classification report on test set\n",
      "              precision    recall  f1-score   support\n",
      "\n",
      "           0       0.88      0.90      0.89       882\n",
      "           1       0.85      0.90      0.88      1053\n",
      "           2       0.75      0.65      0.70       246\n",
      "           3       0.88      0.82      0.85       392\n",
      "           4       0.85      0.78      0.81       323\n",
      "           5       0.69      0.72      0.71       104\n",
      "\n",
      "    accuracy                           0.85      3000\n",
      "   macro avg       0.82      0.80      0.81      3000\n",
      "weighted avg       0.85      0.85      0.85      3000\n",
      "\n"
     ]
    }
   ],
   "source": [
    "test_loader = DataLoader(test_data, batch_size=len(test_data))\n",
    "inputs, targets = next(iter(test_loader))\n",
    "targets = targets.argmax(dim=1).numpy()\n",
    "preds = model.predict(inputs).numpy()\n",
    "\n",
    "print(\"Classification report on test set\")\n",
    "print(classification_report(targets, preds))"
   ]
  }
 ],
 "metadata": {
  "kernelspec": {
   "display_name": ".venv",
   "language": "python",
   "name": "python3"
  },
  "language_info": {
   "codemirror_mode": {
    "name": "ipython",
    "version": 3
   },
   "file_extension": ".py",
   "mimetype": "text/x-python",
   "name": "python",
   "nbconvert_exporter": "python",
   "pygments_lexer": "ipython3",
   "version": "3.11.7"
  }
 },
 "nbformat": 4,
 "nbformat_minor": 2
}
